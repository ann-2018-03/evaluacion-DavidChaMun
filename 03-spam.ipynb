{
 "cells": [
  {
   "cell_type": "markdown",
   "metadata": {
    "colab": {},
    "colab_type": "code",
    "id": "n3lnWjvI83ix"
   },
   "source": [
    "# Filtado de mensajes spam"
   ]
  },
  {
   "cell_type": "markdown",
   "metadata": {},
   "source": [
    "## Descripción del problema real"
   ]
  },
  {
   "cell_type": "markdown",
   "metadata": {},
   "source": [
    "La recepción de publicidad no deseada a traves mensajes de texto usando SMS (Short Message Service) es un problema que afecta a muchos usuarios de teléfonos móviles. El problema radica en que los usuarios deben pagar por los mesajes recibidos, y por este motivo resulta muy importante que las compañías prestadoras del servicio puedan filtrar mensajes indeseados antes de enviarlos a su destinatario final. Los mensajes tienen una longitud máxima de 160 caracteres, por lo que el texto resulta poco para realizar la clasificación, en comparación con textos más largos (como los emails). Adicionalmente, los errores de digitación dificultan el proceso de detección automática."
   ]
  },
  {
   "cell_type": "markdown",
   "metadata": {},
   "source": [
    "## Descripción del problema en términos de los datos"
   ]
  },
  {
   "cell_type": "markdown",
   "metadata": {},
   "source": [
    "Se tiene una muestra contiene 5574 mensajes en inglés, no codificados y clasificados como legítimos (ham) o spam (http://www.dt.fee.unicamp.br/~tiago/smsspamcollection/). La información está almacenada en el archivo `datos/spam-sms.zip`.El problema en términos de los datos consiste en clasificar si un mensaje SMS es legítico o spam, a partir del análisis de las palabras que contiente, partiendo del supuesto de que ciertas palabras que son más frecuentes dependiendo del tipo de mensaje. Esto implica que en la fase de preparación de los datos se deben extraer las palabras que contiene cada mensaje para poder realizar el análsis."
   ]
  },
  {
   "cell_type": "markdown",
   "metadata": {},
   "source": [
    "## Aproximaciones posibles"
   ]
  },
  {
   "cell_type": "markdown",
   "metadata": {},
   "source": [
    "En este caso, se desea comparar los resultados de un modelo de redes neuronales artificiales y otras técnicas estadísticas para realizar la clasificación."
   ]
  },
  {
   "cell_type": "markdown",
   "metadata": {},
   "source": [
    "## Requerimientos"
   ]
  },
  {
   "cell_type": "markdown",
   "metadata": {},
   "source": [
    "Usted debe:\n",
    "\n",
    "* Preprocesar los datos para representarlos usando bag-of-words.\n",
    "\n",
    "\n",
    "* Construir un modelo de regresión logística como punto base para la comparación con otros modelos más complejos.\n",
    "\n",
    "\n",
    "* Construir un modelo de redes neuronales artificiales. Asimismo, debe determinar el número de neuronas en la capa o capas ocultas.\n",
    "\n",
    "\n",
    "* Utiizar una técnica como crossvalidation u otra similar para establecer la robustez del modelo.\n",
    "\n",
    "\n",
    "* Presentar métricas de desempeño para establecer las bondades y falencias de cada clasificador."
   ]
  },
  {
   "cell_type": "code",
   "execution_count": 120,
   "metadata": {},
   "outputs": [],
   "source": [
    "import pandas as pd\n",
    "import matplotlib.pyplot as plt\n",
    "import sklearn\n",
    "import os\n",
    "import numpy as np\n",
    "import math\n",
    "import scipy\n",
    "from tqdm import tqdm_notebook as tqdm\n",
    "import seaborn as sns\n",
    "from bs4 import BeautifulSoup\n",
    "import chardet"
   ]
  },
  {
   "cell_type": "code",
   "execution_count": 121,
   "metadata": {},
   "outputs": [
    {
     "name": "stdout",
     "output_type": "stream",
     "text": [
      "Bad file found at 474\n",
      "Bad file found at 733\n",
      "Bad file found at 1061\n",
      "Bad file found at 1223\n",
      "Bad file found at 1372\n",
      "0.35765379113018597% de archivos ilegiles\n"
     ]
    }
   ],
   "source": [
    "data_path = \"datos/spam-sms/spam-filter/spam_2/\"\n",
    "filenames = os.listdir(data_path)\n",
    "\n",
    "from chardet.universaldetector import UniversalDetector\n",
    "import chardet\n",
    "\n",
    "d = []\n",
    "e = []\n",
    "\n",
    "files_readed = 0\n",
    "bad_files_found = 0\n",
    "for fl in filenames:\n",
    "   \n",
    "    with open(data_path + fl, \"rb\") as f:\n",
    "        row_file = f.read()\n",
    "        enc = chardet.detect(row_file)\n",
    "        #print(enc)\n",
    "        try:\n",
    "            enc = chardet.detect(row_file)\n",
    "            d.append(row_file.decode(enc[\"encoding\"]))\n",
    "        except:\n",
    "            bad_files_found += 1\n",
    "            print(\"Bad file found at \" + str(files_readed))\n",
    "        files_readed += 1\n",
    "print(str((bad_files_found/files_readed) * 100)+\"% de archivos ilegiles\")"
   ]
  },
  {
   "cell_type": "code",
   "execution_count": 123,
   "metadata": {},
   "outputs": [
    {
     "name": "stdout",
     "output_type": "stream",
     "text": [
      "From lmrn@mailexcite.com  Mon Jun 24 17:03:24 2002\n",
      "Return-Path: merchantsworld2001@juno.com\n",
      "Delivery-Date: Mon May 13 04:46:13 2002\n",
      "Received: from mandark.labs.netnoteinc.com ([213.105.180.140]) by\n",
      "    dogma.slashnull.org (8.11.6/8.11.6) with ESMTP id g4D3kCe15097 for\n",
      "    <jm@jmason.org>; Mon, 13 May 2002 04:46:12 +0100\n",
      "Received: from 203.129.205.5.205.129.203.in-addr.arpa ([203.129.205.5]) by\n",
      "    mandark.labs.netnoteinc.com (8.11.2/8.11.2) with SMTP id g4D3k2D12605 for\n",
      "    <jm@netnoteinc.com>; Mon, 13 May 2002 04:46:04 +0100\n",
      "Received: from html (unverified [207.95.174.49]) by\n",
      "    203.129.205.5.205.129.203.in-addr.arpa (EMWAC SMTPRS 0.83) with SMTP id\n",
      "    <B0000178595@203.129.205.5.205.129.203.in-addr.arpa>; Mon, 13 May 2002\n",
      "    09:04:46 +0530\n",
      "Message-Id: <B0000178595@203.129.205.5.205.129.203.in-addr.arpa>\n",
      "From: lmrn@mailexcite.com\n",
      "To: ranmoore@cybertime.net\n",
      "Subject: Real Protection, Stun Guns!  Free Shipping! Time:2:01:35 PM\n",
      "Date: Mon, 28 Jul 1980 14:01:35\n",
      "MIME-Version: 1.0\n",
      "X-Keywords: \n",
      "Content-Type: text/html; charset=\"DEFAULT\"\n",
      "\n",
      "<html>\n",
      "<body>\n",
      "<center>\n",
      "<h3>\n",
      "<font color=\"blue\">\n",
      "<b>\n",
      "The Need For Safety Is Real In 2002, You Might Only Get One Chance - Be Ready!\n",
      "<p>\n",
      "Free Shipping & Handling Within The (USA) If You Order Before May 25, 2002! \n",
      "<p>\n",
      "3 Day Super Sale, Now Until May 7, 2002!  Save Up To $30.00 On Some Items!\n",
      "\n",
      "</b>\n",
      "</font>\n",
      "</h3>\n",
      "</center>\n",
      "<p>\n",
      "IT'S GETTING TO BE SPRING AGAIN, PROTECT YOURSELF AS YOU WALK,<br>\n",
      "JOG AND EXERCISE OUTSIDE.  ALSO PROTECT YOUR LOVED ONES AS<br>\n",
      "THEY RETURN HOME FROM COLLEGE!<br>\n",
      "<p>\n",
      "*     LEGAL PROTECTION FOR COLLEGE STUDENTS!<br>\n",
      "*     GREAT UP'COMING OUTDOOR PROTECTION GIFTS!<br>\n",
      "*     THERE IS NOTHING WORTH MORE PROTECTING THAN LIFE!<br>\n",
      "*     OUR STUN DEVICES & PEPPER PRODUCTS ARE LEGAL PROTECTION!\n",
      "<p>\n",
      "<b>\n",
      "<font color=\"red\">\n",
      "JOIN THE WAR ON CRIME!\n",
      "</b>\n",
      "</font>\n",
      "<p>\n",
      "\n",
      "STUN GUNS AND BATONS \n",
      "<p>\n",
      "EFFECTIVE - SAFE - NONLETHAL\n",
      "<p>\n",
      "PROTECT YOUR LOVED ONES AND YOURSELF\n",
      "<p>\n",
      "No matter who you are, no matter what City or Town you live in,<br>\n",
      "if you live in America, you will be touched by crime.\n",
      "<p>\n",
      "You hear about it on TV.  You read about it in the newspaper.<br>\n",
      "It's no secret that crime is a major problem in the U.S. today.<br>\n",
      "Criminals are finding it easier to commit crimes all the time.\n",
      "<p>\n",
      "Weapons are readily available.  Our cities' police forces have<br>\n",
      "more work than they can handle.  Even if these criminal are<br>\n",
      "caught, they won't be spending long in our nation's overcrowded<br>\n",
      "jails.  And while lawmakers are well aware of the crime problem,<br>\n",
      "they don't seem to have any effective answers.\n",
      "<p>\n",
      "Our Email Address:  <a\n",
      "href=\"mailto:Merchants4all@aol.com\">Merchants4all@aol.com</a>\n",
      "<p>\n",
      "INTERESTED:\n",
      "<p>\n",
      "You will be protecting yourself within 7 days!  Don't Wait,<br>\n",
      "visit our web page below, and join The War On Crime!\n",
      "<p>\n",
      "*****************<br>\n",
      "<a\n",
      "href=\"http://www.geocities.com/realprotection_20022003/\">http://www.geocities.com/realprotection_20022003/</a><br>\n",
      "*****************\n",
      "<p>\n",
      "Well, there is an effective answer.  Take responsibility for<br>\n",
      "your own security.  Our site has a variety of quality personal<br>\n",
      "security products.  Visit our site, choose the personal security<br>\n",
      "products that are right for you.  Use them, and join the war on\n",
      "crime!\n",
      "<p>\n",
      "FREE PEPPER SPRAY WITH ANY STUN UNIT PURCHASE.<br>\n",
      "(A Value of $15.95)\n",
      "<p>\n",
      "We Ship Orders Within 5 To 7 Days, To Every State In The U.S.A.<br>\n",
      "by UPS, FEDEX, or U.S. POSTAL SERVICE.  Visa, MasterCard, American<br>\n",
      "Express & Debt Card Gladly Accepted.\n",
      "<p>\n",
      "Ask yourself this question, if you don't help your loved ones,\n",
      "who will?\n",
      "<p>\n",
      "INTERESTED:\n",
      "<p>\n",
      "*****************<br>\n",
      "<a\n",
      "href=\"http://www.geocities.com/realprotection_20022003/\">http://www.geocities.com/realprotection_20022003/</a><br>\n",
      "*****************\n",
      "<p>\n",
      "___The Stun Monster 625,000 Volts ($86.95)<br>\n",
      "___The Z-Force Slim Style 300,000 Volts ($64.95)<br>\n",
      "___The StunMaster 300,000 Volts Straight ($59.95)<br>\n",
      "___The StunMaster 300,000 Volts Curb ($59.95)<br>\n",
      "___The StunMaster 200,000 Volts Straight ($49.95)<br>\n",
      "___The StunMaster 200,000 Volts Curb ($49.95)<br>\n",
      "___The StunBaton 500,000 Volts ($89.95)<br>\n",
      "___The StunBaton 300,000 Volts ($79.95)<br>\n",
      "___Pen Knife (One $12.50, Two Or More $9.00)<br>\n",
      "___Wildfire Pepper Spray  (One $15.95, Two Or More $11.75)\n",
      "<p>\n",
      "___Add $5.75 For Shipping & Handling Charge.\n",
      "<p>\n",
      "\n",
      "To Order by postal mail, please send to the below address.<br>\n",
      "Make payable to Mega Safety Technology.\n",
      "<p>\n",
      "Mega Safety Technology<br>\n",
      "3215 Merrimac Ave.<br>\n",
      "Dayton, Ohio  45405<br>\n",
      "Our Email Address:  <a\n",
      "href=\"mailto:Merchants4all@aol.com\">Merchants4all@aol.com</a>\n",
      "<p>\n",
      "Order by 24 Hour Fax!!!  775-257-6657.\n",
      "<p>\n",
      "*****<br>\n",
      "<b><font color=\"red\">Important Credit Card Information! Please Read Below!</b></font>\n",
      " <br><br>\n",
      "*     Credit Card Address, City, State and Zip Code, must match\n",
      "      billing address to be processed. \n",
      "<br><br>\n",
      "\n",
      "CHECK____  MONEYORDER____  VISA____ MASTERCARD____ AmericanExpress___\n",
      "Debt Card___\n",
      "<br><br>\n",
      "Name_______________________________________________________<br>\n",
      "(As it appears on Check or Credit Card)\n",
      "<br><br>\n",
      "Address____________________________________________________<br>\n",
      "(As it appears on Check or Credit Card)\n",
      "<br><br>\n",
      "___________________________________________________<br>\n",
      "City,State,Zip(As it appears on Check or Credit Card)\n",
      "<br><br>\n",
      "___________________________________________________<br>\n",
      "Country\n",
      "<br><br>\n",
      "___________________________________________________<br>\n",
      "(Credit Card Number)\n",
      "<br><br>\n",
      "Expiration Month_____  Year_____\n",
      "<br><br>\n",
      "___________________________________________________<br>\n",
      "Authorized Signature\n",
      "<br><br>\n",
      "<b>\n",
      "*****IMPORTANT NOTE*****\n",
      "</b>\n",
      "<br><br>\n",
      "If Shipping Address Is Different From The Billing Address Above,\n",
      "Please Fill Out Information Below.\n",
      "<br><br>\n",
      "Shipping Name______________________________________________\n",
      "<br><br>\n",
      "Shipping Address___________________________________________\n",
      "<br><br>\n",
      "___________________________________________________________<br>\n",
      "Shipping City,State,Zip\n",
      "<br><br>\n",
      "___________________________________________________________<br>\n",
      "Country\n",
      "<br><br>\n",
      "___________________________________________________________<br>\n",
      "Email Address & Phone Number(Please Write Neat)\n",
      "</body>\n",
      "</html>\n",
      "\n"
     ]
    }
   ],
   "source": [
    "import email\n",
    "#print(email.message_from_string(''.join(d)))\n",
    "print(d[1])"
   ]
  },
  {
   "cell_type": "code",
   "execution_count": 135,
   "metadata": {},
   "outputs": [],
   "source": [
    "#spam-filter/spam/00341.99b463b92346291f5848137f4a253966\n",
    "#data_path + filenames[12]\n",
    "#\"datos/spam-sms/spam-filter/spam/00341.99b463b92346291f5848137f4a253966\"\n",
    "test_f = []\n",
    "with open(\"datos/spam-sms/spam-filter/spam/00341.99b463b92346291f5848137f4a253966\", \"rb\") as f:\n",
    "        row_file = f.read()\n",
    "        #print(row_file)\n",
    "        try:\n",
    "            \n",
    "            enc = chardet.detect(row_file)\n",
    "            #print(enc)\n",
    "            row_file = ''.join(row_file.decode(enc[\"encoding\"]))\n",
    "            \n",
    "            if bool(BeautifulSoup(row_file, \"html.parser\").find()):    \n",
    "                soup = BeautifulSoup(row_file)\n",
    "                for script in soup([\"script\", \"style\"]):\n",
    "                    script.extract()  \n",
    "                row_file = ''.join(soup.get_text())\n",
    "                \n",
    "            row_file = row_file.splitlines(True)\n",
    "            for line in row_file:\n",
    "                test_f.append(line)\n",
    "                #if line == '\\n':\n",
    "                    \n",
    "        except:\n",
    "            print(\"Things went wrong\")"
   ]
  },
  {
   "cell_type": "code",
   "execution_count": 210,
   "metadata": {},
   "outputs": [
    {
     "name": "stdout",
     "output_type": "stream",
     "text": [
      "True\n",
      "[<email.message.Message object at 0x0000014C3EA86CC0>, <email.message.Message object at 0x0000014C3EA86588>]\n",
      "True\n"
     ]
    }
   ],
   "source": [
    "import email\n",
    "print(email.message_from_string(''.join(test_f)).is_multipart())\n",
    "print(email.message_from_string(''.join(test_f)).get_payload())\n",
    "pl = email.message_from_string(''.join(test_f)).get_payload()\n",
    "body = pl[0].get_payload()[0]\n",
    "body = body.get_payload()\n",
    "print(type(body) is str)\n",
    "#print(d[1])\n",
    "#print(test_f)"
   ]
  },
  {
   "cell_type": "code",
   "execution_count": 204,
   "metadata": {},
   "outputs": [],
   "source": [
    "pl = email.message_from_string(''.join(test_f))"
   ]
  },
  {
   "cell_type": "code",
   "execution_count": 213,
   "metadata": {},
   "outputs": [
    {
     "data": {
      "text/plain": [
       "b'Dear Sir/Madam\\n\\nWishing you a wonderful day.  With an offer, to save you money and  time. Shopping from the convenience from  home or office.\\nWindow shopping, A new way to go window shopping. Our online super store offers over 1500 quality products, with 15 plus categories.\\nFor you to, window shop through. \\n\\nThe following are E-coupons numbers, which you can use with any order. You place from Johnson Home Products Online Super Store.\\nDuring the check out process of our online secure shopping cart system order form, you will be prompt to enter in the E-coupon\\nnumber. which will give you, your discount on any order you place with Johnson Home Products Online Store. All major Credit cards\\naccepted.\\n\\nPlease visit us at! \\nhttp://www.johnsonhome2276.com\\n\\nE-Coupon Numbers:\\n\\nMJ95L594568JWWL       5% off  any order ! E-coupon Expires\\'s   01/14/2003 any orders, maximum cash value of  $5.00 off \\nMJ633554962R89O       10% off  any order ! E-Coupon Expires\\'s  01/302003 any orders,  maximum cash  value of $10.00 off \\n\\n\\nThis is not spam I received your email from an email list you may have subscript to or from the search engine emailing list, from your submission to search engines. If you have received this email by error, I am sorry for any inconvenience. To be remove from the emailing list, reply to this email with the word remove in the subject area of the email.\\n\\nthe file attached to this email is a Html Document file of the E-coupon for viewing or for printing out to send in with mail in orders.\\n\\nThank you for your time!\\n\\nGod Bless you!\\nSincerely,\\n\\nBob Johnson\\nEmail me with any concerns, comments, or problems, or to be removed from the emailing list.\\nAdvertSpRj40@cs.com\\n\\n\\nTo be removed from my Email list Please reply to this email. type \"remove\" in the subject area of the email.\\n\\n\\n'"
      ]
     },
     "execution_count": 213,
     "metadata": {},
     "output_type": "execute_result"
    }
   ],
   "source": [
    "b = email.message_from_string(''.join(test_f))\n",
    "body = \"\"\n",
    "\n",
    "if b.is_multipart():\n",
    "    for part in b.walk():\n",
    "        ctype = part.get_content_type()\n",
    "        cdispo = str(part.get('Content-Disposition'))\n",
    "\n",
    "        # skip any text/plain (txt) attachments\n",
    "        if ctype == 'text/plain' and 'attachment' not in cdispo:\n",
    "            body = part.get_payload(decode=True)  # decode\n",
    "            break\n",
    "# not multipart - i.e. plain text, no attachments, keeping fingers crossed\n",
    "else:\n",
    "    body = b.get_payload(decode=True)\n",
    "body"
   ]
  },
  {
   "cell_type": "code",
   "execution_count": 89,
   "metadata": {},
   "outputs": [],
   "source": [
    "data_path = \"datos/spam-sms/spam-filter/spam/\"\n",
    "filenames = os.listdir(data_path)\n",
    "\n",
    "\n",
    "def read_data(data_path, filenames):\n",
    "    files_readed = 0\n",
    "    bad_files_found = 0\n",
    "    data = []\n",
    "    \n",
    "    print(\"Reding data\")\n",
    "    for fl in tqdm(filenames):\n",
    "        files_readed += 1\n",
    "        #print(fl)\n",
    "        with open(data_path + fl, \"rb\") as f:\n",
    "            \n",
    "            try:\n",
    "                row_file = f.read()\n",
    "                enc = chardet.detect(row_file)\n",
    "                msn = []\n",
    "                flag = False\n",
    "                           \n",
    "                row_file = ''.join(row_file.decode(enc[\"encoding\"]))\n",
    "                \n",
    "                if bool(BeautifulSoup(row_file, \"html.parser\").find()):   \n",
    "                    print(\"Html detected, cleaning tags\")\n",
    "                    soup = BeautifulSoup(row_file)\n",
    "                    for script in soup([\"script\", \"style\"]):\n",
    "                        script.extract()  \n",
    "                    row_file = ''.join(soup.get_text())\n",
    "                \n",
    "                row_file = row_file.splitlines(True)\n",
    "                #print(file)\n",
    "                for line in row_file: \n",
    "                    if flag is False and line == '\\n':\n",
    "                        #print(\"Body found\")\n",
    "                        flag = True\n",
    "                    if flag:\n",
    "                        msn.append(line)\n",
    "                        #print(line)\n",
    "                msn = [e.rstrip().strip() for e in msn if len(e) > 1]\n",
    "                data.append(msn)\n",
    "                #print(msn)\n",
    "            except Exception as e: \n",
    "                print(e)\n",
    "                bad_files_found += 1\n",
    "            \n",
    "    print(\"Data readed, \\nNumer of unreadable files: \" + str(bad_files_found))\n",
    "    return data"
   ]
  },
  {
   "cell_type": "code",
   "execution_count": 217,
   "metadata": {},
   "outputs": [],
   "source": [
    "def read_data_email(data_path, filenames):\n",
    "    files_readed = 0\n",
    "    bad_files_found = 0\n",
    "    data = []\n",
    "    \n",
    "    print(\"Reding data\")\n",
    "    for fl in tqdm(filenames):\n",
    "        files_readed += 1\n",
    "        #print(fl)\n",
    "        with open(data_path + fl, \"rb\") as f:\n",
    "            \n",
    "            try:\n",
    "                row_file = f.read()\n",
    "                enc = chardet.detect(row_file)\n",
    "                row_file = ''.join(row_file.decode(enc[\"encoding\"]))\n",
    "                \n",
    "                b = email.message_from_string(row_file)\n",
    "                body = \"\"\n",
    "\n",
    "                if b.is_multipart():\n",
    "                    for part in b.walk():\n",
    "                        ctype = part.get_content_type()\n",
    "                        cdispo = str(part.get('Content-Disposition'))\n",
    "\n",
    "                        # skip any text/plain (txt) attachments\n",
    "                        if ctype == 'text/plain' and 'attachment' not in cdispo:\n",
    "                            body = part.get_payload(decode=True)  # decode\n",
    "                            break\n",
    "                # not multipart - i.e. plain text, no attachments, keeping fingers crossed\n",
    "                else:\n",
    "                    body = b.get_payload(decode=True)\n",
    "                body\n",
    "                \n",
    "                if bool(BeautifulSoup(body, \"html.parser\").find()):   \n",
    "                    #print(\"Html detected, cleaning tags\")\n",
    "                    soup = BeautifulSoup(row_file)\n",
    "                    for script in soup([\"script\", \"style\"]):\n",
    "                        script.extract()  \n",
    "                    row_file = ''.join(soup.get_text())\n",
    "                data.append(body)\n",
    "                #print(msn)\n",
    "            except Exception as e: \n",
    "                print(e)\n",
    "                bad_files_found += 1\n",
    "            \n",
    "    print(\"Data readed, \\nNumer of unreadable files: \" + str(bad_files_found))\n",
    "    return data"
   ]
  },
  {
   "cell_type": "code",
   "execution_count": null,
   "metadata": {},
   "outputs": [],
   "source": []
  },
  {
   "cell_type": "code",
   "execution_count": 232,
   "metadata": {},
   "outputs": [
    {
     "data": {
      "application/vnd.jupyter.widget-view+json": {
       "model_id": "26a020f478194382bafa2d9cad7530c5",
       "version_major": 2,
       "version_minor": 0
      },
      "text/plain": [
       "HBox(children=(IntProgress(value=0, max=6307), HTML(value='')))"
      ]
     },
     "metadata": {},
     "output_type": "display_data"
    },
    {
     "name": "stdout",
     "output_type": "stream",
     "text": [
      "\n",
      "6270 files processed\n",
      "24 files discarded\n"
     ]
    }
   ],
   "source": [
    "import zipfile\n",
    "import email\n",
    "import re\n",
    "import html2text\n",
    "import base64\n",
    "\n",
    "def extract_words(message):\n",
    "    words = re.sub(\"[^\\w]\", \" \", message).split()\n",
    "    cleaned = [w.lower() for w in words]\n",
    "    return cleaned \n",
    "\n",
    "def read_multipart(part):\n",
    "    body = ''\n",
    "    if part.is_multipart():\n",
    "        for sub in part.get_payload():\n",
    "            subbody, encoding = read_multipart(sub)\n",
    "            body += subbody + '\\n'\n",
    "    else:\n",
    "        content_type = part.get_content_type()\n",
    "        if not content_type.startswith('text/'):\n",
    "            return '', None\n",
    "        body = part.get_payload()\n",
    "        encoding = part['Content-Transfer-Encoding']\n",
    "    return body, encoding\n",
    "\n",
    "def try_decode(message, encoding):\n",
    "    if encoding == 'base64':\n",
    "        return base64.b64decode(re.sub(r'\\s+', '', message)).decode(\"utf-8\")\n",
    "    return message\n",
    "\n",
    "h = html2text.HTML2Text()\n",
    "def process_content(file):\n",
    "    mail = email.message_from_bytes(file.read())\n",
    "    contentType = mail.get_content_type()  \n",
    "    message, encoding = read_multipart(mail)\n",
    "    if contentType == 'text/html':\n",
    "        message = h.handle(try_decode(message, encoding))\n",
    "    else:\n",
    "        message = try_decode(message, encoding)\n",
    "    return message\n",
    "\n",
    "filecount = 0\n",
    "discarded = 0\n",
    "bags = {\n",
    "    'easy_ham': [],\n",
    "    'easy_ham_2': [],\n",
    "    'hard_ham': [],\n",
    "    'hard_ham_2': [],\n",
    "    'spam': [],\n",
    "    'spam_2': []\n",
    "}\n",
    "zip = zipfile.ZipFile('datos/spam-sms.zip')\n",
    "for filename in tqdm(zip.namelist()):\n",
    "    if filename.endswith('/') or filename.endswith('/cmds') or filename.endswith('.DS_Store'):\n",
    "        continue\n",
    "\n",
    "    #print(filename)\n",
    "    try:\n",
    "        folder = filename.split('/')[1]\n",
    "        file = zip.open(filename)\n",
    "        message = process_content(file)\n",
    "        #words = extract_words(message)        \n",
    "        bags[folder].append(message)\n",
    "        \n",
    "    except:\n",
    "        discarded += 1\n",
    "        continue\n",
    "    else:\n",
    "        filecount += 1\n",
    "\n",
    "print(\"{0} files processed\".format(filecount))\n",
    "print(\"{0} files discarded\".format(discarded))\n",
    "#print(bags)"
   ]
  },
  {
   "cell_type": "code",
   "execution_count": 267,
   "metadata": {},
   "outputs": [
    {
     "data": {
      "text/plain": [
       "2993"
      ]
     },
     "execution_count": 267,
     "metadata": {},
     "output_type": "execute_result"
    }
   ],
   "source": [
    "spam_d = [''.join(e) for e in bags[\"spam\"]]\n",
    "ham_d = [''.join(e) for e in bags[\"easy_ham\"]]\n",
    "train_d = spam_d + ham_d\n",
    "#len(spam_d) + len(ham_d)\n",
    "len(train_d)"
   ]
  },
  {
   "cell_type": "code",
   "execution_count": 343,
   "metadata": {},
   "outputs": [],
   "source": [
    "ham_t = [''.join(e) for e in bags['easy_ham_2']]\n",
    "spam_t = [''.join(e) for e in bags['spam_2']]"
   ]
  },
  {
   "cell_type": "code",
   "execution_count": 296,
   "metadata": {},
   "outputs": [
    {
     "name": "stdout",
     "output_type": "stream",
     "text": [
      "<class 'numpy.ndarray'>\n",
      "(493, 1043)\n",
      "(2500, 1043)\n"
     ]
    },
    {
     "data": {
      "text/plain": [
       "array([[0, 0, 0, ..., 0, 0, 0],\n",
       "       [0, 0, 0, ..., 1, 0, 0],\n",
       "       [0, 4, 0, ..., 0, 0, 0],\n",
       "       ...,\n",
       "       [0, 0, 0, ..., 0, 0, 0],\n",
       "       [4, 0, 0, ..., 0, 0, 0],\n",
       "       [0, 0, 0, ..., 0, 0, 0]], dtype=int64)"
      ]
     },
     "execution_count": 296,
     "metadata": {},
     "output_type": "execute_result"
    }
   ],
   "source": [
    "from sklearn.feature_extraction.text import CountVectorizer\n",
    "from sklearn.feature_extraction.text import TfidfVectorizer\n",
    "\n",
    "count_vect = CountVectorizer(analyzer='word',        # a nivel de palabra\n",
    "                             lowercase=True,         # convierte a minúsculas\n",
    "                             stop_words='english',   # stop_words en inglés\n",
    "                             min_df=50)               # ignora\n",
    "\n",
    "##\n",
    "## Aplica la función al texto\n",
    "##\n",
    "#toy_data = [body,body,body,body]\n",
    "data_dtm = count_vect.fit_transform(train_d)\n",
    "\n",
    "X0 = count_vect.transform(spam_d)\n",
    "X1 = count_vect.transform(ham_d)\n",
    "\n",
    "X0 = X0.toarray()\n",
    "X1 = X1.toarray()\n",
    "#X = np.concatenate((X0, X1))\n",
    "Y = [0] * len(X0) + [1] * len(X1)\n",
    "\n",
    "##\n",
    "## Las filas contienen los mensajes\n",
    "## y las clomunas los términos\n",
    "##\n",
    "#data_dtm.shape\n",
    "#print(count_vect.vocabulary_ )\n",
    "print(type(X0))\n",
    "print(np.shape(X0))\n",
    "print(np.shape(X1))\n",
    "X = np.concatenate((X0, X1))\n",
    "X"
   ]
  },
  {
   "cell_type": "code",
   "execution_count": 302,
   "metadata": {},
   "outputs": [
    {
     "data": {
      "text/plain": [
       "array([[0, 0, 0, ..., 1, 0, 0]], dtype=int64)"
      ]
     },
     "execution_count": 302,
     "metadata": {},
     "output_type": "execute_result"
    }
   ],
   "source": [
    "Xl = count_vect.transform([spam_d[1]])\n",
    "Xl.toarray()"
   ]
  },
  {
   "cell_type": "code",
   "execution_count": 297,
   "metadata": {},
   "outputs": [
    {
     "data": {
      "text/plain": [
       "2993"
      ]
     },
     "execution_count": 297,
     "metadata": {},
     "output_type": "execute_result"
    }
   ],
   "source": [
    "len(Y)"
   ]
  },
  {
   "cell_type": "code",
   "execution_count": 298,
   "metadata": {},
   "outputs": [
    {
     "name": "stderr",
     "output_type": "stream",
     "text": [
      "C:\\Users\\DavidChaverraMunera\\Anaconda3\\envs\\deep_learning\\lib\\site-packages\\sklearn\\linear_model\\logistic.py:433: FutureWarning: Default solver will be changed to 'lbfgs' in 0.22. Specify a solver to silence this warning.\n",
      "  FutureWarning)\n"
     ]
    },
    {
     "data": {
      "text/plain": [
       "array([0, 0, 0, ..., 1, 1, 1])"
      ]
     },
     "execution_count": 298,
     "metadata": {},
     "output_type": "execute_result"
    }
   ],
   "source": [
    "\n",
    "from sklearn.linear_model import LogisticRegression\n",
    "\n",
    "clf = LogisticRegression()\n",
    "clf.fit(X, Y)\n",
    "clf.predict(X)"
   ]
  },
  {
   "cell_type": "code",
   "execution_count": 303,
   "metadata": {},
   "outputs": [
    {
     "data": {
      "text/plain": [
       "array([0])"
      ]
     },
     "execution_count": 303,
     "metadata": {},
     "output_type": "execute_result"
    }
   ],
   "source": [
    "clf.predict(Xl)"
   ]
  },
  {
   "cell_type": "code",
   "execution_count": 345,
   "metadata": {},
   "outputs": [],
   "source": [
    "#X1 = count_vect.transform(ham_t)\n",
    "X1 = count_vect.transform(spam_t)\n",
    "X = X1.toarray()  \n",
    "D = [0] * len(X)\n",
    "pred = clf.predict(X)\n",
    "error = np.sqrt(np.sum(D - pred)**2) / len(D)\n",
    "error"
   ]
  },
  {
   "cell_type": "code",
   "execution_count": 323,
   "metadata": {},
   "outputs": [],
   "source": [
    "import numpy as np\n",
    "import matplotlib.pyplot as plt\n",
    "import math\n",
    "\n",
    "%matplotlib inline\n",
    "\n",
    "class Perceptron:\n",
    "    \"\"\"\n",
    "    Perceptron regressor\n",
    "\n",
    "    Parameters\n",
    "    ----------\n",
    "    learning_rate : float\n",
    "        Learning rate coefficient. Default to 0.001\n",
    "\n",
    "    max_iter : integer\n",
    "        The maximun number of passes over the training data (aka epochs).\n",
    "        Default to 100\n",
    "    \"\"\"\n",
    "\n",
    "    def __init__(self, learning_rate=0.001, max_iter=100):\n",
    "        self.learning_rate = learning_rate\n",
    "        self.max_iter = max_iter\n",
    "        self.w = None\n",
    "\n",
    "    def fitStochasticDescGrad(self, X, y):\n",
    "        self.w = np.zeros(1 + len(X[0]))\n",
    "        X = [[1] + u for u in X]\n",
    "        X = np.array(X)\n",
    "        d = np.array(y)\n",
    "        history = []\n",
    "        for iter in range(self.max_iter):\n",
    "            n = np.random.choice(len(d), 1)\n",
    "            u = np.dot(X[n], self.w)\n",
    "            s = (1. / (1. + math.exp(-u)))\n",
    "            e = (d[n] - s)[0]\n",
    "            self.w += 2 * self.learning_rate * e * s * (1-s) * X[n][0]\n",
    "            history.append(e**2)\n",
    "        return history\n",
    "\n",
    "    def fitBatchDescGrad(self, X, y):\n",
    "        self.w = np.zeros(1 + len(X[0]))\n",
    "        X = [[1] + u for u in X]\n",
    "        X = np.array(X)\n",
    "        d = np.array(y)\n",
    "        history = []\n",
    "        for iter in tqdm(range(self.max_iter)):\n",
    "            #print(X)\n",
    "            #print(self.w)\n",
    "            u = np.dot(X, self.w)\n",
    "            s = 1. / (1. + np.exp(-u))\n",
    "            e = d - s\n",
    "            self.w += 2 * self.learning_rate * np.sum((X.T * e * s * (1. - s)).T, axis=0)\n",
    "            history.append(sum([a**2 for a in e]))\n",
    "        return history\n",
    "\n",
    "    def predict(self, X):\n",
    "        X = [[1] + u for u in X]\n",
    "        X = np.array(X)\n",
    "        u = np.dot(X, self.w)\n",
    "        return 1. / (1. + np.exp(-u))"
   ]
  },
  {
   "cell_type": "code",
   "execution_count": 324,
   "metadata": {},
   "outputs": [
    {
     "data": {
      "application/vnd.jupyter.widget-view+json": {
       "model_id": "c4c1dff7f09348efbd8aa5565efc21df",
       "version_major": 2,
       "version_minor": 0
      },
      "text/plain": [
       "HBox(children=(IntProgress(value=0, max=1000), HTML(value='')))"
      ]
     },
     "metadata": {},
     "output_type": "display_data"
    },
    {
     "name": "stdout",
     "output_type": "stream",
     "text": [
      "\n"
     ]
    },
    {
     "data": {
      "application/vnd.jupyter.widget-view+json": {
       "model_id": "2e79dfc2bc1e4883be3a94de03b2e907",
       "version_major": 2,
       "version_minor": 0
      },
      "text/plain": [
       "HBox(children=(IntProgress(value=0, max=1000), HTML(value='')))"
      ]
     },
     "metadata": {},
     "output_type": "display_data"
    },
    {
     "name": "stdout",
     "output_type": "stream",
     "text": [
      "\n"
     ]
    },
    {
     "data": {
      "image/png": "[encoded data removed]",
      "text/plain": [
       "<Figure size 432x288 with 1 Axes>"
      ]
     },
     "metadata": {
      "needs_background": "light"
     },
     "output_type": "display_data"
    }
   ],
   "source": [
    "##\n",
    "##  Datos originales\n",
    "##\n",
    "X0 = count_vect.transform(spam_d)\n",
    "X1 = count_vect.transform(ham_d)\n",
    "\n",
    "X0 = X0.toarray()\n",
    "X1 = X1.toarray()\n",
    "\n",
    "Y = [0] * len(X0) + [1] * len(X1)\n",
    "X = np.concatenate((X0, X1))\n",
    "X = X.tolist()\n",
    "\n",
    "\n",
    "##\n",
    "##  Solución\n",
    "##  Se codifica un vector para cada clase\n",
    "##\n",
    "A = [+1 if u == 0 else 0 for u in Y] # spam\n",
    "B = [+1 if u == 1 else 0 for u in Y] # ham\n",
    "\n",
    "\n",
    "##\n",
    "## Modelos\n",
    "##\n",
    "max_iter = 1000\n",
    "mA = Perceptron(learning_rate=0.001, max_iter=max_iter)\n",
    "mB = Perceptron(learning_rate=0.001, max_iter=max_iter)\n",
    "\n",
    "\n",
    "historyA = mA.fitBatchDescGrad(X, A)\n",
    "historyB = mB.fitBatchDescGrad(X, B)\n",
    "\n"
   ]
  },
  {
   "cell_type": "code",
   "execution_count": 327,
   "metadata": {},
   "outputs": [
    {
     "data": {
      "image/png": "[encoded data removed]",
      "text/plain": [
       "<Figure size 432x288 with 1 Axes>"
      ]
     },
     "metadata": {
      "needs_background": "light"
     },
     "output_type": "display_data"
    }
   ],
   "source": [
    "\n",
    "plt.plot(historyA)\n",
    "plt.plot(historyB)\n",
    "plt.legend(['A', 'B']);\n",
    "plt.xlim(0, max_iter)\n",
    "plt.ylim(0, 500);"
   ]
  },
  {
   "cell_type": "code",
   "execution_count": 333,
   "metadata": {},
   "outputs": [
    {
     "data": {
      "text/plain": [
       "[<matplotlib.lines.Line2D at 0x14c46b7de80>]"
      ]
     },
     "execution_count": 333,
     "metadata": {},
     "output_type": "execute_result"
    },
    {
     "data": {
      "image/png": "[encoded data removed]",
      "text/plain": [
       "<Figure size 432x288 with 1 Axes>"
      ]
     },
     "metadata": {
      "needs_background": "light"
     },
     "output_type": "display_data"
    }
   ],
   "source": [
    "iterXY = [(X[i], Y[i]) for i in range(len(X))]\n",
    "Ax = [e[0]  for (e, y) in iterXY if y == 0]\n",
    "Ay = [e[1]  for (e, y) in iterXY if y == 0]\n",
    "\n",
    "Bx = [e[0]  for (e, y) in iterXY if y == 1]\n",
    "By = [e[1]  for (e, y) in iterXY if y == 1]\n",
    "\n",
    "\n",
    "plt.plot(Ax, Ay, 'ro')\n",
    "plt.plot(Bx, By, 'bo')\n",
    "plt.xlim(9, 15)\n",
    "#plt.ylim(5, 18)\n",
    "\n",
    "xplot = np.linspace(start=9, stop=15, num=20)\n",
    "fronteraA = - mA.w[0] / mA.w[2] - mA.w[1] / mA.w[2] * xplot\n",
    "fronteraB = - mB.w[0] / mB.w[2] - mB.w[1] / mB.w[2] * xplot\n",
    "\n",
    "plt.plot(xplot, fronteraA, color='red')\n",
    "plt.plot(xplot, fronteraB, color='blue')"
   ]
  },
  {
   "cell_type": "code",
   "execution_count": 375,
   "metadata": {},
   "outputs": [],
   "source": [
    "def per_predict(X):\n",
    "    pa = mA.predict(X)\n",
    "    pb = mB.predict(X)\n",
    "    results = [(pa[i], pb[i]) for i in range(len(X))]\n",
    "    return [0 if a > b else 1 for (a,b) in results]"
   ]
  },
  {
   "cell_type": "code",
   "execution_count": 376,
   "metadata": {},
   "outputs": [
    {
     "data": {
      "text/plain": [
       "0.10797101449275362"
      ]
     },
     "execution_count": 376,
     "metadata": {},
     "output_type": "execute_result"
    }
   ],
   "source": [
    "#X1 = count_vect.transform(ham_t)\n",
    "X1 = count_vect.transform(spam_t)\n",
    "X = X1.toarray()  \n",
    "D = [0] * len(X)\n",
    "pred = per_predict(X.tolist())\n",
    "error = np.sqrt(np.sum(D - np.array(pred))**2) / len(D)\n",
    "error"
   ]
  },
  {
   "cell_type": "code",
   "execution_count": 451,
   "metadata": {},
   "outputs": [
    {
     "name": "stdout",
     "output_type": "stream",
     "text": [
      "---------------\n",
      "True Positives = 360\n",
      "True Negatives = 769\n",
      "False Positives = 11\n",
      "False Negatives = 14\n",
      "Success Rate = 0.9783362218370883\n",
      "Error rate = 0.021663778162911613\n",
      "Precision = 0.9703504043126685\n",
      "Negative predicted value = 0.9821200510855683\n",
      "Sensitivity = 0.9625668449197861\n",
      "Specifity = 0.985897435897436\n"
     ]
    }
   ],
   "source": [
    "vald = [(D[i], pred[i]) for i in range(len(D))]\n",
    "\n",
    "tp = 0\n",
    "tn = 0\n",
    "fn = 0\n",
    "fp = 0\n",
    "\n",
    "for (d,y) in vald:\n",
    "    if d == 0:\n",
    "        if y == 0:\n",
    "            tp += 1\n",
    "        if y == 1:\n",
    "            fn += 1\n",
    "    if d == 1:\n",
    "        if y == 1:\n",
    "            tn += 1\n",
    "        if y == 0:\n",
    "            fp += 1\n",
    "\n",
    "print(\"---------------\")\n",
    "print(\"True Positives = \" + str(tp))\n",
    "print(\"True Negatives = \" + str(tn))\n",
    "print(\"False Positives = \" + str(fp))\n",
    "print(\"False Negatives = \" + str(fn))\n",
    "print(\"Success Rate = \" + str((tp + tn)/(tp + tn + fp +fn)))\n",
    "print(\"Error rate = \" + str((fp + fn)/(tp + tn + fp +fn)))\n",
    "print(\"Precision = \" + str(tp/(tp+fp)))\n",
    "print(\"Negative predicted value = \" + str(tn/(tn+fn)))\n",
    "print(\"Sensitivity = \" + str(tp/(tp+fn)))\n",
    "print(\"Specifity = \" + str(tn/(tn+fp)))"
   ]
  },
  {
   "cell_type": "code",
   "execution_count": 416,
   "metadata": {},
   "outputs": [],
   "source": [
    "spam_d = [''.join(e) for e in bags[\"spam\"]] + [''.join(e) for e in bags[\"spam_2\"]] \n",
    "ham_d = [''.join(e) for e in bags[\"easy_ham\"]] + [''.join(e) for e in bags[\"easy_ham_2\"]]\n",
    "spam_d = np.array(spam_d)\n",
    "ham_d = np.array(ham_d)"
   ]
  },
  {
   "cell_type": "code",
   "execution_count": 418,
   "metadata": {},
   "outputs": [
    {
     "data": {
      "text/plain": [
       "numpy.ndarray"
      ]
     },
     "execution_count": 418,
     "metadata": {},
     "output_type": "execute_result"
    }
   ],
   "source": [
    "type(spam_d)"
   ]
  },
  {
   "cell_type": "code",
   "execution_count": 431,
   "metadata": {},
   "outputs": [],
   "source": [
    "from sklearn.model_selection import KFold\n",
    "    #added some parameters\n",
    "n_splits = 5\n",
    "kf = KFold(n_splits = n_splits, shuffle = True, random_state = 2)\n",
    "    \n",
    "kf.get_n_splits(spam_d)\n",
    "\n",
    "spam_train = []\n",
    "spam_test = []\n",
    "\n",
    "for train_index, test_index in kf.split(spam_d):\n",
    "    #print(\"TRAIN:\", train_index, \"TEST:\", test_index)\n",
    "    spam_d_train, spam_d_test = spam_d[train_index], spam_d[test_index]\n",
    "    spam_train.append(spam_d_train)\n",
    "    spam_test.append(spam_d_test)\n",
    "\n",
    "    \n",
    "kf.get_n_splits(ham_d)\n",
    "\n",
    "ham_train = []\n",
    "ham_test = []\n",
    "\n",
    "for train_index, test_index in kf.split(ham_d):\n",
    "    ham_d_train, ham_d_test = ham_d[train_index], ham_d[test_index]\n",
    "    ham_train.append(ham_d_train)\n",
    "    ham_test.append(ham_d_test)"
   ]
  },
  {
   "cell_type": "code",
   "execution_count": 426,
   "metadata": {},
   "outputs": [
    {
     "data": {
      "text/plain": [
       "5"
      ]
     },
     "execution_count": 426,
     "metadata": {},
     "output_type": "execute_result"
    }
   ],
   "source": []
  },
  {
   "cell_type": "code",
   "execution_count": 433,
   "metadata": {},
   "outputs": [
    {
     "data": {
      "application/vnd.jupyter.widget-view+json": {
       "model_id": "aa304a599e234e97add397278e693c24",
       "version_major": 2,
       "version_minor": 0
      },
      "text/plain": [
       "HBox(children=(IntProgress(value=0, max=250), HTML(value='')))"
      ]
     },
     "metadata": {},
     "output_type": "display_data"
    },
    {
     "data": {
      "application/vnd.jupyter.widget-view+json": {
       "model_id": "276e2bf6ee4b4f49bdd4640b5f2e8256",
       "version_major": 2,
       "version_minor": 0
      },
      "text/plain": [
       "HBox(children=(IntProgress(value=0, max=250), HTML(value='')))"
      ]
     },
     "metadata": {},
     "output_type": "display_data"
    },
    {
     "data": {
      "application/vnd.jupyter.widget-view+json": {
       "model_id": "6bbf5cbd0ad742388e255590fbd984f1",
       "version_major": 2,
       "version_minor": 0
      },
      "text/plain": [
       "HBox(children=(IntProgress(value=0, max=250), HTML(value='')))"
      ]
     },
     "metadata": {},
     "output_type": "display_data"
    },
    {
     "data": {
      "application/vnd.jupyter.widget-view+json": {
       "model_id": "a8f5fe2fd43d47709089d1513d93a7bc",
       "version_major": 2,
       "version_minor": 0
      },
      "text/plain": [
       "HBox(children=(IntProgress(value=0, max=250), HTML(value='')))"
      ]
     },
     "metadata": {},
     "output_type": "display_data"
    },
    {
     "data": {
      "application/vnd.jupyter.widget-view+json": {
       "model_id": "b15726071f4a434a89bb4c11cc4c5558",
       "version_major": 2,
       "version_minor": 0
      },
      "text/plain": [
       "HBox(children=(IntProgress(value=0, max=250), HTML(value='')))"
      ]
     },
     "metadata": {},
     "output_type": "display_data"
    },
    {
     "data": {
      "application/vnd.jupyter.widget-view+json": {
       "model_id": "6b1d2fab88144e6e84b4cf4d2a0d9cf8",
       "version_major": 2,
       "version_minor": 0
      },
      "text/plain": [
       "HBox(children=(IntProgress(value=0, max=250), HTML(value='')))"
      ]
     },
     "metadata": {},
     "output_type": "display_data"
    },
    {
     "data": {
      "application/vnd.jupyter.widget-view+json": {
       "model_id": "0522dfca573b4d96a8c75ec52f68578b",
       "version_major": 2,
       "version_minor": 0
      },
      "text/plain": [
       "HBox(children=(IntProgress(value=0, max=250), HTML(value='')))"
      ]
     },
     "metadata": {},
     "output_type": "display_data"
    },
    {
     "data": {
      "application/vnd.jupyter.widget-view+json": {
       "model_id": "fdc0b3c4da254b3ab815b6cd1b601b1b",
       "version_major": 2,
       "version_minor": 0
      },
      "text/plain": [
       "HBox(children=(IntProgress(value=0, max=250), HTML(value='')))"
      ]
     },
     "metadata": {},
     "output_type": "display_data"
    },
    {
     "data": {
      "application/vnd.jupyter.widget-view+json": {
       "model_id": "ea7d508a81da447d8a426e476fb42466",
       "version_major": 2,
       "version_minor": 0
      },
      "text/plain": [
       "HBox(children=(IntProgress(value=0, max=250), HTML(value='')))"
      ]
     },
     "metadata": {},
     "output_type": "display_data"
    },
    {
     "data": {
      "application/vnd.jupyter.widget-view+json": {
       "model_id": "69886c4cdde34d3790259f2192d253fc",
       "version_major": 2,
       "version_minor": 0
      },
      "text/plain": [
       "HBox(children=(IntProgress(value=0, max=250), HTML(value='')))"
      ]
     },
     "metadata": {},
     "output_type": "display_data"
    }
   ],
   "source": [
    "errors = []\n",
    "for i in range (n_splits):\n",
    "    ##\n",
    "    ##  Datos originales\n",
    "    ##\n",
    "    X0 = count_vect.transform(spam_train[i].tolist())\n",
    "    X1 = count_vect.transform(ham_train[i].tolist())\n",
    "\n",
    "    X0 = X0.toarray()\n",
    "    X1 = X1.toarray()\n",
    "\n",
    "    Y = [0] * len(X0) + [1] * len(X1)\n",
    "    X = np.concatenate((X0, X1))\n",
    "    X = X.tolist()\n",
    "\n",
    "\n",
    "    ##\n",
    "    ##  Solución\n",
    "    ##  Se codifica un vector para cada clase\n",
    "    ##\n",
    "    A = [+1 if u == 0 else 0 for u in Y] # spam\n",
    "    B = [+1 if u == 1 else 0 for u in Y] # ham\n",
    "\n",
    "\n",
    "    ##\n",
    "    ## Modelos\n",
    "    ##\n",
    "    max_iter = 250\n",
    "    mA = Perceptron(learning_rate=0.001, max_iter=max_iter)\n",
    "    mB = Perceptron(learning_rate=0.001, max_iter=max_iter)\n",
    "\n",
    "\n",
    "    historyA = mA.fitBatchDescGrad(X, A)\n",
    "    historyB = mB.fitBatchDescGrad(X, B)\n",
    "\n",
    "    Xp0 = count_vect.transform(spam_test[i].tolist())\n",
    "    Xp1 = count_vect.transform(ham_test[i].tolist())\n",
    "    \n",
    "    Xp0 = Xp0.toarray()  \n",
    "    Xp1 = Xp1.toarray()\n",
    "    \n",
    "    D = [0] * len(Xp0) + [1] * len(Xp1)\n",
    "    Xp = np.concatenate((Xp0, Xp1))\n",
    "    pred = per_predict(Xp.tolist())\n",
    "    error = np.sqrt(np.sum(D - np.array(pred))**2) / len(D)\n",
    "    errors.append(error)"
   ]
  },
  {
   "cell_type": "code",
   "execution_count": 438,
   "metadata": {},
   "outputs": [
    {
     "name": "stdout",
     "output_type": "stream",
     "text": [
      "Kfold crossvalidation men error is 0.002598302910261316\n"
     ]
    }
   ],
   "source": [
    "print(\"Kfold crossvalidation men error is \" + str(sum(errors)/len(errors)))\n"
   ]
  },
  {
   "cell_type": "code",
   "execution_count": null,
   "metadata": {},
   "outputs": [],
   "source": []
  }
 ],
 "metadata": {
  "colab": {
   "include_colab_link": true,
   "name": "Copia de Untitled3.ipynb",
   "provenance": [],
   "version": "0.3.2"
  },
  "kernelspec": {
   "display_name": "Python 3",
   "language": "python",
   "name": "python3"
  },
  "language_info": {
   "codemirror_mode": {
    "name": "ipython",
    "version": 3
   },
   "file_extension": ".py",
   "mimetype": "text/x-python",
   "name": "python",
   "nbconvert_exporter": "python",
   "pygments_lexer": "ipython3",
   "version": "3.7.3"
  }
 },
 "nbformat": 4,
 "nbformat_minor": 2
}
