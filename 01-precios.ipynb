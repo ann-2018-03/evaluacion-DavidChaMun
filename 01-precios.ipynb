{
 "cells": [
  {
   "cell_type": "markdown",
   "metadata": {
    "colab": {},
    "colab_type": "code",
    "id": "n3lnWjvI83ix"
   },
   "source": [
    "# Pronóstico adaptativo"
   ]
  },
  {
   "cell_type": "markdown",
   "metadata": {},
   "source": [
    "## Descripción del problema real"
   ]
  },
  {
   "cell_type": "markdown",
   "metadata": {},
   "source": [
    "Los pronósticos de los precios de la electricidad en mercados liberalizados son un insumo fundamental para la toma de decisiones dentro de las organizaciones. Fundamentalmente, los pronosticos de corto plazo son utilizados en decisiones de carácter operativo. En el caso abordado, es necesario contar con los pronósticos para definir la politica de operación de una empresa del sector eléctrico."
   ]
  },
  {
   "cell_type": "markdown",
   "metadata": {},
   "source": [
    "## Descripción del problema en términos de los datos"
   ]
  },
  {
   "cell_type": "markdown",
   "metadata": {},
   "source": [
    "La carpeta `datos/precios/` contiene los precios historicos horarios de la electricidad en la Bolsa de Energía del mercado eléctrico colombiano, publicados por el operador del mercado. Se desean obtener pronósticos para el precio promedio diario para los próximos siete (7) días a la fecha actual."
   ]
  },
  {
   "cell_type": "markdown",
   "metadata": {},
   "source": [
    "## Aproximaciones posibles"
   ]
  },
  {
   "cell_type": "markdown",
   "metadata": {},
   "source": [
    "En este caso, se desea evaluar la capacidad de pronóstico de un ADALINE con aprendizaje en línea."
   ]
  },
  {
   "cell_type": "markdown",
   "metadata": {},
   "source": [
    "## Requerimientos"
   ]
  },
  {
   "cell_type": "markdown",
   "metadata": {},
   "source": [
    "Usted debe:\n",
    "\n",
    "* Procesar los datos históricos para conformar el conjunto de datos. Los archivos de Excel no pueden ser modificados y actualizados directamente por el operador del sistema. Su código debe leer los archivos y crear la serie de precios promedio diarios de la electricidad.\n",
    "\n",
    "\n",
    "* Determinar si el modelo debe pronosticar los precios promedios sin ninguna transformación, o si la inclusión de una transformación (logaritmo natural, raíz cúbica, raíz cuadrada, etc) resulta en un incremento de la precisión del pronóstico.\n",
    "\n",
    "\n",
    "* Generar el pronóstico para los precios de los próximos siete días.\n",
    "\n",
    "\n",
    "* Preparar el código para que el modelo sea entrenado usando el gradiente y el momentum.\n",
    "\n",
    "\n",
    "* Determinar cuál es el número óptimo de retardos (observaciones) que el modelo debe considerar hacia atrás para producir el pronóstico.\n",
    "\n",
    "\n",
    "* Determinar los valores óptimos de la tasa de aprendizaje y el momentum.\n"
   ]
  },
  {
   "cell_type": "code",
   "execution_count": 1,
   "metadata": {},
   "outputs": [],
   "source": [
    "#Importar dependecias necesarias\n",
    "import tensorflow as tf\n",
    "tf.enable_eager_execution()\n",
    "import pandas as pd\n",
    "import matplotlib.pyplot as plt\n",
    "import sklearn\n",
    "import os\n",
    "import numpy as np\n",
    "import math\n"
   ]
  },
  {
   "cell_type": "markdown",
   "metadata": {},
   "source": [
    "## Planteamiento de la solucion\n",
    "El primer paso para solucionar el problema es leer los datos"
   ]
  },
  {
   "cell_type": "code",
   "execution_count": 2,
   "metadata": {},
   "outputs": [],
   "source": [
    "def clean_data(data):\n",
    "    data = pd.read_excel(data_path + filenames[16], header=2, parse_col=\"A:Z\")\n",
    "    return data"
   ]
  },
  {
   "cell_type": "code",
   "execution_count": 3,
   "metadata": {},
   "outputs": [],
   "source": [
    "\"\"\"\n",
    "    Data is located and filtered for temporary files \n",
    "    It is asumed that the directory will not have any other\n",
    "    files exept for the excel files where the data is located\n",
    "\"\"\"\n",
    "data_path = \"datos/precios/\"\n",
    "filenames = os.listdir(data_path)\n",
    "filenames = [e for e in filenames if e[0] != '~']\n"
   ]
  },
  {
   "cell_type": "code",
   "execution_count": 4,
   "metadata": {},
   "outputs": [
    {
     "data": {
      "text/html": [
       "<div>\n",
       "<style scoped>\n",
       "    .dataframe tbody tr th:only-of-type {\n",
       "        vertical-align: middle;\n",
       "    }\n",
       "\n",
       "    .dataframe tbody tr th {\n",
       "        vertical-align: top;\n",
       "    }\n",
       "\n",
       "    .dataframe thead th {\n",
       "        text-align: right;\n",
       "    }\n",
       "</style>\n",
       "<table border=\"1\" class=\"dataframe\">\n",
       "  <thead>\n",
       "    <tr style=\"text-align: right;\">\n",
       "      <th></th>\n",
       "      <th>0</th>\n",
       "      <th>1</th>\n",
       "      <th>2</th>\n",
       "      <th>3</th>\n",
       "      <th>4</th>\n",
       "      <th>5</th>\n",
       "      <th>6</th>\n",
       "      <th>7</th>\n",
       "      <th>8</th>\n",
       "      <th>9</th>\n",
       "      <th>...</th>\n",
       "      <th>14</th>\n",
       "      <th>15</th>\n",
       "      <th>16</th>\n",
       "      <th>17</th>\n",
       "      <th>18</th>\n",
       "      <th>19</th>\n",
       "      <th>20</th>\n",
       "      <th>21</th>\n",
       "      <th>22</th>\n",
       "      <th>23</th>\n",
       "    </tr>\n",
       "  </thead>\n",
       "  <tbody>\n",
       "    <tr>\n",
       "      <th>8404</th>\n",
       "      <td>64.229226</td>\n",
       "      <td>64.229226</td>\n",
       "      <td>64.129226</td>\n",
       "      <td>64.129226</td>\n",
       "      <td>64.129226</td>\n",
       "      <td>64.129226</td>\n",
       "      <td>64.129226</td>\n",
       "      <td>64.229226</td>\n",
       "      <td>64.229226</td>\n",
       "      <td>69.229226</td>\n",
       "      <td>...</td>\n",
       "      <td>71.229226</td>\n",
       "      <td>71.229226</td>\n",
       "      <td>69.229226</td>\n",
       "      <td>81.229226</td>\n",
       "      <td>86.229226</td>\n",
       "      <td>86.229226</td>\n",
       "      <td>86.229226</td>\n",
       "      <td>81.229226</td>\n",
       "      <td>71.229226</td>\n",
       "      <td>64.229226</td>\n",
       "    </tr>\n",
       "    <tr>\n",
       "      <th>8405</th>\n",
       "      <td>63.332816</td>\n",
       "      <td>63.332816</td>\n",
       "      <td>63.332816</td>\n",
       "      <td>63.332816</td>\n",
       "      <td>63.332816</td>\n",
       "      <td>64.332816</td>\n",
       "      <td>67.832816</td>\n",
       "      <td>79.831816</td>\n",
       "      <td>80.832816</td>\n",
       "      <td>80.832816</td>\n",
       "      <td>...</td>\n",
       "      <td>83.832816</td>\n",
       "      <td>83.832816</td>\n",
       "      <td>80.832816</td>\n",
       "      <td>80.832816</td>\n",
       "      <td>83.832816</td>\n",
       "      <td>83.832816</td>\n",
       "      <td>83.832816</td>\n",
       "      <td>80.832816</td>\n",
       "      <td>80.832816</td>\n",
       "      <td>67.832816</td>\n",
       "    </tr>\n",
       "    <tr>\n",
       "      <th>8406</th>\n",
       "      <td>63.710848</td>\n",
       "      <td>64.210848</td>\n",
       "      <td>61.710848</td>\n",
       "      <td>61.710848</td>\n",
       "      <td>63.710848</td>\n",
       "      <td>64.210848</td>\n",
       "      <td>64.210848</td>\n",
       "      <td>67.710848</td>\n",
       "      <td>67.710848</td>\n",
       "      <td>67.710848</td>\n",
       "      <td>...</td>\n",
       "      <td>79.710848</td>\n",
       "      <td>79.710848</td>\n",
       "      <td>79.710848</td>\n",
       "      <td>67.710848</td>\n",
       "      <td>79.710848</td>\n",
       "      <td>79.710848</td>\n",
       "      <td>79.710848</td>\n",
       "      <td>67.710848</td>\n",
       "      <td>67.710848</td>\n",
       "      <td>63.710848</td>\n",
       "    </tr>\n",
       "    <tr>\n",
       "      <th>8407</th>\n",
       "      <td>61.543453</td>\n",
       "      <td>61.543453</td>\n",
       "      <td>61.543453</td>\n",
       "      <td>61.543453</td>\n",
       "      <td>61.543453</td>\n",
       "      <td>65.543453</td>\n",
       "      <td>61.543453</td>\n",
       "      <td>64.043453</td>\n",
       "      <td>65.543453</td>\n",
       "      <td>65.543453</td>\n",
       "      <td>...</td>\n",
       "      <td>65.543453</td>\n",
       "      <td>65.543453</td>\n",
       "      <td>65.543453</td>\n",
       "      <td>65.543453</td>\n",
       "      <td>65.543453</td>\n",
       "      <td>72.543453</td>\n",
       "      <td>65.543453</td>\n",
       "      <td>65.543453</td>\n",
       "      <td>65.543453</td>\n",
       "      <td>64.043453</td>\n",
       "    </tr>\n",
       "    <tr>\n",
       "      <th>8408</th>\n",
       "      <td>73.742918</td>\n",
       "      <td>73.742918</td>\n",
       "      <td>70.242918</td>\n",
       "      <td>70.242918</td>\n",
       "      <td>70.242918</td>\n",
       "      <td>70.242918</td>\n",
       "      <td>73.742918</td>\n",
       "      <td>73.742918</td>\n",
       "      <td>75.242918</td>\n",
       "      <td>75.242918</td>\n",
       "      <td>...</td>\n",
       "      <td>73.742918</td>\n",
       "      <td>73.742918</td>\n",
       "      <td>75.242918</td>\n",
       "      <td>73.742918</td>\n",
       "      <td>75.242918</td>\n",
       "      <td>75.242918</td>\n",
       "      <td>75.242918</td>\n",
       "      <td>75.242918</td>\n",
       "      <td>75.242918</td>\n",
       "      <td>75.242918</td>\n",
       "    </tr>\n",
       "  </tbody>\n",
       "</table>\n",
       "<p>5 rows × 24 columns</p>\n",
       "</div>"
      ],
      "text/plain": [
       "              0          1          2          3          4          5  \\\n",
       "8404  64.229226  64.229226  64.129226  64.129226  64.129226  64.129226   \n",
       "8405  63.332816  63.332816  63.332816  63.332816  63.332816  64.332816   \n",
       "8406  63.710848  64.210848  61.710848  61.710848  63.710848  64.210848   \n",
       "8407  61.543453  61.543453  61.543453  61.543453  61.543453  65.543453   \n",
       "8408  73.742918  73.742918  70.242918  70.242918  70.242918  70.242918   \n",
       "\n",
       "              6          7          8          9    ...             14  \\\n",
       "8404  64.129226  64.229226  64.229226  69.229226    ...      71.229226   \n",
       "8405  67.832816  79.831816  80.832816  80.832816    ...      83.832816   \n",
       "8406  64.210848  67.710848  67.710848  67.710848    ...      79.710848   \n",
       "8407  61.543453  64.043453  65.543453  65.543453    ...      65.543453   \n",
       "8408  73.742918  73.742918  75.242918  75.242918    ...      73.742918   \n",
       "\n",
       "             15         16         17         18         19         20  \\\n",
       "8404  71.229226  69.229226  81.229226  86.229226  86.229226  86.229226   \n",
       "8405  83.832816  80.832816  80.832816  83.832816  83.832816  83.832816   \n",
       "8406  79.710848  79.710848  67.710848  79.710848  79.710848  79.710848   \n",
       "8407  65.543453  65.543453  65.543453  65.543453  72.543453  65.543453   \n",
       "8408  73.742918  75.242918  73.742918  75.242918  75.242918  75.242918   \n",
       "\n",
       "             21         22         23  \n",
       "8404  81.229226  71.229226  64.229226  \n",
       "8405  80.832816  80.832816  67.832816  \n",
       "8406  67.710848  67.710848  63.710848  \n",
       "8407  65.543453  65.543453  64.043453  \n",
       "8408  75.242918  75.242918  75.242918  \n",
       "\n",
       "[5 rows x 24 columns]"
      ]
     },
     "execution_count": 4,
     "metadata": {},
     "output_type": "execute_result"
    }
   ],
   "source": [
    "\"\"\"\n",
    "    In this step data is loaded, cleaned and appended, nans still remain,\n",
    "    the data tail is shown to make certain the data was loaded correctly\n",
    "\"\"\"\n",
    "\n",
    "data = pd.read_excel(data_path + filenames[0], header=2, usecols=\"A:Y\")\n",
    "\n",
    "iterfiles = iter(filenames) \n",
    "next(iterfiles)\n",
    "\n",
    "for f in iterfiles:\n",
    "    data = data.append(pd.read_excel(data_path + f, header=2, usecols=\"A:Y\"), sort=False, ignore_index=True)\n",
    "data = data.drop(\"Fecha\", axis=1)\n",
    "data.tail()\n"
   ]
  },
  {
   "cell_type": "code",
   "execution_count": 5,
   "metadata": {},
   "outputs": [
    {
     "name": "stdout",
     "output_type": "stream",
     "text": [
      "Number of rows left: 8381\n"
     ]
    },
    {
     "data": {
      "text/html": [
       "<div>\n",
       "<style scoped>\n",
       "    .dataframe tbody tr th:only-of-type {\n",
       "        vertical-align: middle;\n",
       "    }\n",
       "\n",
       "    .dataframe tbody tr th {\n",
       "        vertical-align: top;\n",
       "    }\n",
       "\n",
       "    .dataframe thead th {\n",
       "        text-align: right;\n",
       "    }\n",
       "</style>\n",
       "<table border=\"1\" class=\"dataframe\">\n",
       "  <thead>\n",
       "    <tr style=\"text-align: right;\">\n",
       "      <th></th>\n",
       "      <th>0</th>\n",
       "      <th>1</th>\n",
       "      <th>2</th>\n",
       "      <th>3</th>\n",
       "      <th>4</th>\n",
       "      <th>5</th>\n",
       "      <th>6</th>\n",
       "      <th>7</th>\n",
       "      <th>8</th>\n",
       "      <th>9</th>\n",
       "      <th>...</th>\n",
       "      <th>14</th>\n",
       "      <th>15</th>\n",
       "      <th>16</th>\n",
       "      <th>17</th>\n",
       "      <th>18</th>\n",
       "      <th>19</th>\n",
       "      <th>20</th>\n",
       "      <th>21</th>\n",
       "      <th>22</th>\n",
       "      <th>23</th>\n",
       "    </tr>\n",
       "  </thead>\n",
       "  <tbody>\n",
       "    <tr>\n",
       "      <th>8404</th>\n",
       "      <td>64.229226</td>\n",
       "      <td>64.229226</td>\n",
       "      <td>64.129226</td>\n",
       "      <td>64.129226</td>\n",
       "      <td>64.129226</td>\n",
       "      <td>64.129226</td>\n",
       "      <td>64.129226</td>\n",
       "      <td>64.229226</td>\n",
       "      <td>64.229226</td>\n",
       "      <td>69.229226</td>\n",
       "      <td>...</td>\n",
       "      <td>71.229226</td>\n",
       "      <td>71.229226</td>\n",
       "      <td>69.229226</td>\n",
       "      <td>81.229226</td>\n",
       "      <td>86.229226</td>\n",
       "      <td>86.229226</td>\n",
       "      <td>86.229226</td>\n",
       "      <td>81.229226</td>\n",
       "      <td>71.229226</td>\n",
       "      <td>64.229226</td>\n",
       "    </tr>\n",
       "    <tr>\n",
       "      <th>8405</th>\n",
       "      <td>63.332816</td>\n",
       "      <td>63.332816</td>\n",
       "      <td>63.332816</td>\n",
       "      <td>63.332816</td>\n",
       "      <td>63.332816</td>\n",
       "      <td>64.332816</td>\n",
       "      <td>67.832816</td>\n",
       "      <td>79.831816</td>\n",
       "      <td>80.832816</td>\n",
       "      <td>80.832816</td>\n",
       "      <td>...</td>\n",
       "      <td>83.832816</td>\n",
       "      <td>83.832816</td>\n",
       "      <td>80.832816</td>\n",
       "      <td>80.832816</td>\n",
       "      <td>83.832816</td>\n",
       "      <td>83.832816</td>\n",
       "      <td>83.832816</td>\n",
       "      <td>80.832816</td>\n",
       "      <td>80.832816</td>\n",
       "      <td>67.832816</td>\n",
       "    </tr>\n",
       "    <tr>\n",
       "      <th>8406</th>\n",
       "      <td>63.710848</td>\n",
       "      <td>64.210848</td>\n",
       "      <td>61.710848</td>\n",
       "      <td>61.710848</td>\n",
       "      <td>63.710848</td>\n",
       "      <td>64.210848</td>\n",
       "      <td>64.210848</td>\n",
       "      <td>67.710848</td>\n",
       "      <td>67.710848</td>\n",
       "      <td>67.710848</td>\n",
       "      <td>...</td>\n",
       "      <td>79.710848</td>\n",
       "      <td>79.710848</td>\n",
       "      <td>79.710848</td>\n",
       "      <td>67.710848</td>\n",
       "      <td>79.710848</td>\n",
       "      <td>79.710848</td>\n",
       "      <td>79.710848</td>\n",
       "      <td>67.710848</td>\n",
       "      <td>67.710848</td>\n",
       "      <td>63.710848</td>\n",
       "    </tr>\n",
       "    <tr>\n",
       "      <th>8407</th>\n",
       "      <td>61.543453</td>\n",
       "      <td>61.543453</td>\n",
       "      <td>61.543453</td>\n",
       "      <td>61.543453</td>\n",
       "      <td>61.543453</td>\n",
       "      <td>65.543453</td>\n",
       "      <td>61.543453</td>\n",
       "      <td>64.043453</td>\n",
       "      <td>65.543453</td>\n",
       "      <td>65.543453</td>\n",
       "      <td>...</td>\n",
       "      <td>65.543453</td>\n",
       "      <td>65.543453</td>\n",
       "      <td>65.543453</td>\n",
       "      <td>65.543453</td>\n",
       "      <td>65.543453</td>\n",
       "      <td>72.543453</td>\n",
       "      <td>65.543453</td>\n",
       "      <td>65.543453</td>\n",
       "      <td>65.543453</td>\n",
       "      <td>64.043453</td>\n",
       "    </tr>\n",
       "    <tr>\n",
       "      <th>8408</th>\n",
       "      <td>73.742918</td>\n",
       "      <td>73.742918</td>\n",
       "      <td>70.242918</td>\n",
       "      <td>70.242918</td>\n",
       "      <td>70.242918</td>\n",
       "      <td>70.242918</td>\n",
       "      <td>73.742918</td>\n",
       "      <td>73.742918</td>\n",
       "      <td>75.242918</td>\n",
       "      <td>75.242918</td>\n",
       "      <td>...</td>\n",
       "      <td>73.742918</td>\n",
       "      <td>73.742918</td>\n",
       "      <td>75.242918</td>\n",
       "      <td>73.742918</td>\n",
       "      <td>75.242918</td>\n",
       "      <td>75.242918</td>\n",
       "      <td>75.242918</td>\n",
       "      <td>75.242918</td>\n",
       "      <td>75.242918</td>\n",
       "      <td>75.242918</td>\n",
       "    </tr>\n",
       "  </tbody>\n",
       "</table>\n",
       "<p>5 rows × 24 columns</p>\n",
       "</div>"
      ],
      "text/plain": [
       "              0          1          2          3          4          5  \\\n",
       "8404  64.229226  64.229226  64.129226  64.129226  64.129226  64.129226   \n",
       "8405  63.332816  63.332816  63.332816  63.332816  63.332816  64.332816   \n",
       "8406  63.710848  64.210848  61.710848  61.710848  63.710848  64.210848   \n",
       "8407  61.543453  61.543453  61.543453  61.543453  61.543453  65.543453   \n",
       "8408  73.742918  73.742918  70.242918  70.242918  70.242918  70.242918   \n",
       "\n",
       "              6          7          8          9    ...             14  \\\n",
       "8404  64.129226  64.229226  64.229226  69.229226    ...      71.229226   \n",
       "8405  67.832816  79.831816  80.832816  80.832816    ...      83.832816   \n",
       "8406  64.210848  67.710848  67.710848  67.710848    ...      79.710848   \n",
       "8407  61.543453  64.043453  65.543453  65.543453    ...      65.543453   \n",
       "8408  73.742918  73.742918  75.242918  75.242918    ...      73.742918   \n",
       "\n",
       "             15         16         17         18         19         20  \\\n",
       "8404  71.229226  69.229226  81.229226  86.229226  86.229226  86.229226   \n",
       "8405  83.832816  80.832816  80.832816  83.832816  83.832816  83.832816   \n",
       "8406  79.710848  79.710848  67.710848  79.710848  79.710848  79.710848   \n",
       "8407  65.543453  65.543453  65.543453  65.543453  72.543453  65.543453   \n",
       "8408  73.742918  75.242918  73.742918  75.242918  75.242918  75.242918   \n",
       "\n",
       "             21         22         23  \n",
       "8404  81.229226  71.229226  64.229226  \n",
       "8405  80.832816  80.832816  67.832816  \n",
       "8406  67.710848  67.710848  63.710848  \n",
       "8407  65.543453  65.543453  64.043453  \n",
       "8408  75.242918  75.242918  75.242918  \n",
       "\n",
       "[5 rows x 24 columns]"
      ]
     },
     "execution_count": 5,
     "metadata": {},
     "output_type": "execute_result"
    }
   ],
   "source": [
    "nans = sum(pd.isnull(data).sum().values)\n",
    "nans_per = 1 - (len(data.index) - nans) / len(data.index)\n",
    "\n",
    "\"\"\"\n",
    "    3% of the data are NaNs, since the porcentage is not so big\n",
    "    3% < 5%, which is a common confidence value, it is mostly safe\n",
    "    to delete the rows where NaNs are present without inquiring in bias\n",
    "    print(str(nans_per * 100) + \"%\")\n",
    "\"\"\"\n",
    "\n",
    "data.dropna(how=\"any\", inplace=True)\n",
    "data.reset_index(drop=True)\n",
    "print(\"Number of rows left: \" + str(len(data.index)))\n",
    "data.tail()"
   ]
  },
  {
   "cell_type": "code",
   "execution_count": 6,
   "metadata": {},
   "outputs": [],
   "source": [
    "\"\"\"\n",
    "    With the nans out of the way, the next step is calculate the means per row \n",
    "    to form the series of daily mean prices\n",
    "\"\"\"\n",
    "\n",
    "mean_prices = data.sum(axis=1) / (len(data.columns))\n"
   ]
  },
  {
   "cell_type": "code",
   "execution_count": 9,
   "metadata": {},
   "outputs": [
    {
     "name": "stdout",
     "output_type": "stream",
     "text": [
      "lambda = 0.202402\n",
      "Confidence interval for the lambda = (0.18908, 0.21578)\n"
     ]
    },
    {
     "data": {
      "text/plain": [
       "<Figure size 1008x216 with 0 Axes>"
      ]
     },
     "metadata": {},
     "output_type": "display_data"
    }
   ],
   "source": [
    "import scipy\n",
    "import scipy.stats\n",
    "\n",
    "plt.figure(figsize=(14,3))\n",
    "xt, lamda, interval = scipy.stats.boxcox(mean_prices, alpha=0.05)\n",
    "print(\"lambda = {:g}\".format(lamda))\n",
    "\n",
    "print(\"Confidence interval for the lambda = (\" + str(round(interval[0], 5)) + \", \" + str(round(interval[1], 5)) + \")\")\n",
    "\n"
   ]
  },
  {
   "cell_type": "code",
   "execution_count": 32,
   "metadata": {},
   "outputs": [
    {
     "data": {
      "text/plain": [
       "<Figure size 1008x216 with 0 Axes>"
      ]
     },
     "metadata": {},
     "output_type": "display_data"
    }
   ],
   "source": [
    "plt.figure(figsize=(14,3))\n",
    "#plt.plot(mean_prices)\n",
    "#plt.plot(np.sqrt(mean_prices))\n",
    "#plt.plot(np.power(mean_prices, 1/3))\n",
    "\n",
    "#Scaling data\n",
    "def scale_data(data, c = 0, d = 1):\n",
    "    \n",
    "    out = data.tolist()\n",
    "    b = max(out)\n",
    "    a = min(out)\n",
    "    out = [c + ((d-(c))/(b-a))*(e-a) for e in out]\n",
    "\n",
    "    return out, a, b\n",
    "\n",
    "def de_scale_data(s_data, a, b, c = 0, d = 1):\n",
    "    p = (d-c)/(b-a)\n",
    "    out = [(y + (p*a) -c)/p for y in s_data]\n",
    "    #out = [a + ((b-a)/(d-c))*(e-c) for e in s_data]\n",
    "    return out\n",
    "\n",
    "\n",
    "d, a, b = scale_data(xt)\n",
    "ds = de_scale_data(d, a, b)\n",
    "\n",
    "#plt.plot(xt)\n",
    "#plt.plot(ds)\n",
    "#plt.plot(d)\n",
    "#this is a test of the de_scale function\n"
   ]
  },
  {
   "cell_type": "code",
   "execution_count": 11,
   "metadata": {},
   "outputs": [],
   "source": [
    "class Model(object):\n",
    "    \n",
    "    def __init__(self, L):\n",
    "        self.w = tf.contrib.eager.Variable([0.0] * (L+1))\n",
    "        self.errs = []\n",
    "        self.last_delta = 0;\n",
    "    def __call__(self, x):\n",
    "        x = tf.constant(np.array([1.0] + x, dtype=np.float32))\n",
    "        y_pred = tf.reduce_sum(tf.multiply(self.w, x))\n",
    "        return y_pred\n",
    "                             \n",
    "    def fit(self, mu, x, y_desired):\n",
    "        y_pred = self(x)\n",
    "        e = y_desired - y_pred\n",
    "        self.errs.append(e)\n",
    "        x = tf.constant(np.array([1.0] + x, dtype=np.float32))\n",
    "        self.w.assign_add(tf.scalar_mul(2 * mu * e, x)) \n",
    "        \n",
    "    def fit_momentum(self, mu, mu2, x, y_desired):\n",
    "        y_pred = self(x)\n",
    "        e = y_desired - y_pred\n",
    "        self.errs.append(e)\n",
    "        x = tf.constant(np.array([1.0] + x, dtype=np.float32))\n",
    "        delta = 2 * e\n",
    "        self.w.assign_add(tf.scalar_mul(mu * delta + mu2 * self.last_delta, x))   "
   ]
  },
  {
   "cell_type": "code",
   "execution_count": 12,
   "metadata": {},
   "outputs": [],
   "source": [
    "def fit_model(d, L, u, u2 = 0.05, fit_type = 0):\n",
    "    model = Model(L)\n",
    "    y_pred = np.empty(len(d))\n",
    "    y_pred[:] = 0\n",
    "    for t in range(L, len(d)):\n",
    "        x = d[t-L:t]                        \n",
    "        y_pred[t] = model(x)\n",
    "        if fit_type == 0:\n",
    "            model.fit(mu=u, x=x, y_desired=d[t])\n",
    "        else:\n",
    "            model.fit_momentum(mu=u, mu2=u2, x=x, y_desired=d[t])\n",
    "    return model, y_pred,"
   ]
  },
  {
   "cell_type": "code",
   "execution_count": 14,
   "metadata": {},
   "outputs": [
    {
     "data": {
      "application/vnd.jupyter.widget-view+json": {
       "model_id": "fa92bf95c7734ee8a41db77d64b72ed0",
       "version_major": 2,
       "version_minor": 0
      },
      "text/plain": [
       "HBox(children=(IntProgress(value=0, max=13924), HTML(value='')))"
      ]
     },
     "metadata": {},
     "output_type": "display_data"
    }
   ],
   "source": [
    "from tqdm import tqdm_notebook as tqdm\n",
    "\n",
    "tests = {\"fit_type\": [], \"L\": [], \"mu\": [], \"mu2\": [], \"MSE\": []}\n",
    "\n",
    "n_of_fits = 2\n",
    "max_l = 31\n",
    "max_mu = 0.6\n",
    "mu_step = 0.01\n",
    "max_mu2 = 0.6\n",
    "mu2_step = 0.01\n",
    "\n",
    "tsum = 0\n",
    "for fit_type in range(2):\n",
    "    for L in (1, max_l):\n",
    "        for mu in np.arange(0.01, max_mu, step=mu_step):\n",
    "            for mu2 in np.arange(0.01, max_mu2, step=mu2_step):\n",
    "                tsum += 1\n",
    "                \n",
    " \n",
    "     \n",
    "\n",
    "total = n_of_fits * max_l * (max_mu/mu_step) * (max_mu2/mu2_step)\n",
    "pbar = tqdm(total = tsum)\n",
    "for fit_type in range(2):\n",
    "    for L in (1, max_l):\n",
    "        for mu in np.arange(0.01, max_mu, step=mu_step):\n",
    "            for mu2 in np.arange(0.01, max_mu2, step=mu2_step):\n",
    "                if fit_type == 0:\n",
    "                    model, y_pred = fit_model(d, L, mu, mu2, 0)\n",
    "                else:\n",
    "                    model, y_pred = fit_model(d, L, mu, mu2, 1)\n",
    "                \n",
    "                MSE = sum(model.errs)**2 / len(model.errs)\n",
    "                tests[\"fit_type\"].append(fit_type)\n",
    "                tests[\"L\"].append(L)\n",
    "                tests[\"mu\"].append(mu)\n",
    "                tests[\"mu2\"].append(mu2)\n",
    "                tests[\"MSE\"].append(MSE)\n",
    "                pbar.update(1)\n",
    "pbar.close()               \n",
    "runs = pd.DataFrame(tests)"
   ]
  },
  {
   "cell_type": "code",
   "execution_count": 20,
   "metadata": {},
   "outputs": [
    {
     "name": "stdout",
     "output_type": "stream",
     "text": [
      "fit_type                                                   0\n",
      "L                                                          1\n",
      "mu                                                      0.59\n",
      "mu2                                                     0.01\n",
      "MSE         tf.Tensor(5.800697e-05, shape=(), dtype=float32)\n",
      "Name: 3422, dtype: object\n",
      "13924\n"
     ]
    }
   ],
   "source": [
    "##Here the best\n",
    "mss = [e.numpy() for e in runs[\"MSE\"][:]]\n",
    "best_params_ix = mss.index(min(mss))\n",
    "best_params = runs.iloc[best_params_ix]\n",
    "print(best_params)\n",
    "print(len(mss))"
   ]
  },
  {
   "cell_type": "code",
   "execution_count": 16,
   "metadata": {},
   "outputs": [
    {
     "data": {
      "text/html": [
       "<div>\n",
       "<style scoped>\n",
       "    .dataframe tbody tr th:only-of-type {\n",
       "        vertical-align: middle;\n",
       "    }\n",
       "\n",
       "    .dataframe tbody tr th {\n",
       "        vertical-align: top;\n",
       "    }\n",
       "\n",
       "    .dataframe thead th {\n",
       "        text-align: right;\n",
       "    }\n",
       "</style>\n",
       "<table border=\"1\" class=\"dataframe\">\n",
       "  <thead>\n",
       "    <tr style=\"text-align: right;\">\n",
       "      <th></th>\n",
       "      <th>fit_type</th>\n",
       "      <th>L</th>\n",
       "      <th>mu</th>\n",
       "      <th>mu2</th>\n",
       "      <th>MSE</th>\n",
       "    </tr>\n",
       "  </thead>\n",
       "  <tbody>\n",
       "    <tr>\n",
       "      <th>13919</th>\n",
       "      <td>1</td>\n",
       "      <td>31</td>\n",
       "      <td>0.59</td>\n",
       "      <td>0.55</td>\n",
       "      <td>tf.Tensor(nan, shape=(), dtype=float32)</td>\n",
       "    </tr>\n",
       "    <tr>\n",
       "      <th>13920</th>\n",
       "      <td>1</td>\n",
       "      <td>31</td>\n",
       "      <td>0.59</td>\n",
       "      <td>0.56</td>\n",
       "      <td>tf.Tensor(nan, shape=(), dtype=float32)</td>\n",
       "    </tr>\n",
       "    <tr>\n",
       "      <th>13921</th>\n",
       "      <td>1</td>\n",
       "      <td>31</td>\n",
       "      <td>0.59</td>\n",
       "      <td>0.57</td>\n",
       "      <td>tf.Tensor(nan, shape=(), dtype=float32)</td>\n",
       "    </tr>\n",
       "    <tr>\n",
       "      <th>13922</th>\n",
       "      <td>1</td>\n",
       "      <td>31</td>\n",
       "      <td>0.59</td>\n",
       "      <td>0.58</td>\n",
       "      <td>tf.Tensor(nan, shape=(), dtype=float32)</td>\n",
       "    </tr>\n",
       "    <tr>\n",
       "      <th>13923</th>\n",
       "      <td>1</td>\n",
       "      <td>31</td>\n",
       "      <td>0.59</td>\n",
       "      <td>0.59</td>\n",
       "      <td>tf.Tensor(nan, shape=(), dtype=float32)</td>\n",
       "    </tr>\n",
       "  </tbody>\n",
       "</table>\n",
       "</div>"
      ],
      "text/plain": [
       "       fit_type   L    mu   mu2                                      MSE\n",
       "13919         1  31  0.59  0.55  tf.Tensor(nan, shape=(), dtype=float32)\n",
       "13920         1  31  0.59  0.56  tf.Tensor(nan, shape=(), dtype=float32)\n",
       "13921         1  31  0.59  0.57  tf.Tensor(nan, shape=(), dtype=float32)\n",
       "13922         1  31  0.59  0.58  tf.Tensor(nan, shape=(), dtype=float32)\n",
       "13923         1  31  0.59  0.59  tf.Tensor(nan, shape=(), dtype=float32)"
      ]
     },
     "execution_count": 16,
     "metadata": {},
     "output_type": "execute_result"
    }
   ],
   "source": [
    "runs.tail()"
   ]
  },
  {
   "cell_type": "code",
   "execution_count": 17,
   "metadata": {},
   "outputs": [
    {
     "name": "stdout",
     "output_type": "stream",
     "text": [
      "Mean error of the scaled data is tf.Tensor(5.800697e-05, shape=(), dtype=float32)\n"
     ]
    },
    {
     "data": {
      "image/png": "[encoded data removed]",
      "text/plain": [
       "<Figure size 1008x216 with 1 Axes>"
      ]
     },
     "metadata": {
      "needs_background": "light"
     },
     "output_type": "display_data"
    }
   ],
   "source": [
    "fit_type = 1#best_params[\"fit_type\"]\n",
    "L = best_params[\"L\"]\n",
    "mu = best_params[\"mu\"]\n",
    "mu2 = best_params[\"mu2\"]\n",
    "\n",
    "\n",
    "model, y_pred = fit_model(d, L, mu, mu2, fit_type)\n",
    "MSE = sum(model.errs)**2 / len(model.errs)\n",
    "print(\"Mean error of the scaled data is \" + str(MSE))\n",
    "plt.figure(figsize=(14,3))\n",
    "plt.plot(d, color='black');\n",
    "plt.plot(y_pred, color = 'red');\n"
   ]
  },
  {
   "cell_type": "code",
   "execution_count": 18,
   "metadata": {},
   "outputs": [
    {
     "data": {
      "image/png": "[encoded data removed]",
      "text/plain": [
       "<Figure size 432x288 with 1 Axes>"
      ]
     },
     "metadata": {
      "needs_background": "light"
     },
     "output_type": "display_data"
    }
   ],
   "source": [
    "nd = d[-L:] \n",
    "\n",
    "n_of_pred = 7\n",
    "for i in range(n_of_pred):\n",
    "    #print(-(L))\n",
    "    #print(nd[-L:])\n",
    "    nd.append(model(nd[-L:]).numpy())\n",
    "    #print(model(nd[-1 * (L - 1):]))\n",
    "seven_pred = de_scale_data(nd[-1*n_of_pred:], a, b)\n",
    "seven_pred = scipy.special.inv_boxcox(seven_pred, lamda)\n",
    "plt.plot(seven_pred);\n"
   ]
  },
  {
   "cell_type": "code",
   "execution_count": null,
   "metadata": {},
   "outputs": [],
   "source": []
  }
 ],
 "metadata": {
  "colab": {
   "include_colab_link": true,
   "name": "Copia de Untitled3.ipynb",
   "provenance": [],
   "version": "0.3.2"
  },
  "kernelspec": {
   "display_name": "Python 3",
   "language": "python",
   "name": "python3"
  },
  "language_info": {
   "codemirror_mode": {
    "name": "ipython",
    "version": 3
   },
   "file_extension": ".py",
   "mimetype": "text/x-python",
   "name": "python",
   "nbconvert_exporter": "python",
   "pygments_lexer": "ipython3",
   "version": "3.6.6"
  }
 },
 "nbformat": 4,
 "nbformat_minor": 2
}
